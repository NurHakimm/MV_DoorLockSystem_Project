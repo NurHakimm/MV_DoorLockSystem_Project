{
 "cells": [
  {
   "cell_type": "code",
   "execution_count": null,
   "metadata": {},
   "outputs": [],
   "source": [
    "Creating Dataset\n"
   ]
  },
  {
   "cell_type": "code",
   "execution_count": 10,
   "metadata": {},
   "outputs": [],
   "source": [
    "import cv2\n",
    "import numpy as numpy\n"
   ]
  },
  {
   "cell_type": "code",
   "execution_count": null,
   "metadata": {
    "scrolled": true
   },
   "outputs": [],
   "source": [
    "faceDetect = cv2.CascadeClassifier('haarcascade_frontalface_default.xml')\n",
    "cam = cv2.VideoCapture(0)\n",
    "\n",
    "id = input('Enter ID : ')\n",
    "sampleNum = 0\n",
    "\n",
    "while True:\n",
    "    ret,img = cam.read()\n",
    "    gray = cv2.cvtColor(img,cv2.COLOR_BGR2GRAY)\n",
    "    faces = faceDetect.detectMultiScale(gray, 1.3, 5);\n",
    "    for (x,y,w,h) in faces:\n",
    "        sampleNum = sampleNum + 1\n",
    "        cv2.imwrite(\"dataset.\" + str(id) + \".\" + str(sampleNum) + \".jpg\", gray[y:y+h,x:x+w])\n",
    "        cv2.rectangle(img, (x,y), (x+w, y+h), (0,0,255), 2)\n",
    "        cv2.waitKey(300)\n",
    "        pass\n",
    "    cv2.imshow(\"Faces\",img)\n",
    "    cv2.waitKey(1)\n",
    "    if sampleNum>300:\n",
    "        break\n",
    "    pass\n",
    "cam.release()\n",
    "cv2.destroyAllWindows()\n"
   ]
  },
  {
   "cell_type": "code",
   "execution_count": null,
   "metadata": {},
   "outputs": [],
   "source": []
  },
  {
   "cell_type": "code",
   "execution_count": null,
   "metadata": {},
   "outputs": [],
   "source": [
    "Training Dataset"
   ]
  },
  {
   "cell_type": "code",
   "execution_count": null,
   "metadata": {},
   "outputs": [],
   "source": [
    "recognizer = cv2.face.LBPHFaceRecognizer_create()\n",
    "path = 'C:/Users/Hakim/Downloads/FaceRe/faces/'\n",
    "\n",
    "def getImageWithID(path):\n",
    "    imagePaths = [os.path.join(path,f) for f in os.listdir(path)]\n",
    "    faces = []\n",
    "    IDs = []\n",
    "    for imagePath in imagePaths:\n",
    "        faceImg = Image.open(imagePath).convert('L')\n",
    "        faceNp= np.array(faceImg, 'uint8')\n",
    "        ID = int(os.path.split(imagePath)[-1].split('.')[1])\n",
    "        print(ID)\n",
    "        faces.append(faceNp)\n",
    "        IDs.append(ID)\n",
    "        cv2.imshow(\"training\", faceNp)\n",
    "        cv2.waitKey(10)\n",
    "    return IDs, faces\n",
    "\n",
    "Ids, faces = getImageWithID(path)\n",
    "recognizer.train(faces, np.array(Ids))\n",
    "print(faces)\n",
    "print(recognizer.write('trainingData.yml'))\n",
    "cv2.destroyAllWindows()\n"
   ]
  },
  {
   "cell_type": "code",
   "execution_count": null,
   "metadata": {},
   "outputs": [],
   "source": [
    "Detection"
   ]
  },
  {
   "cell_type": "code",
   "execution_count": 11,
   "metadata": {},
   "outputs": [
    {
     "name": "stdout",
     "output_type": "stream",
     "text": [
      "None\n"
     ]
    }
   ],
   "source": [
    "faceDetect = cv2.CascadeClassifier('haarcascade_frontalface_default.xml')\n",
    "cam = cv2.VideoCapture(0)\n",
    "rec = cv2.face.LBPHFaceRecognizer_create()\n",
    "print(rec.read('trainingData.yml'))\n",
    "id = 0\n",
    "font = cv2.FONT_HERSHEY_SIMPLEX"
   ]
  },
  {
   "cell_type": "code",
   "execution_count": null,
   "metadata": {},
   "outputs": [],
   "source": [
    "while True:\n",
    "    ret,img = cam.read()\n",
    "    gray = cv2.cvtColor(img,cv2.COLOR_BGR2GRAY)\n",
    "    faces = faceDetect.detectMultiScale(gray, 1.3, 5);\n",
    "    for (x,y,w,h) in faces:\n",
    "        cv2.rectangle(img, (x,y), (x+w, y+h), (0,0,255), 2)\n",
    "        id, conf = rec.predict(gray[y:y+h, x:x+w])\n",
    "        if id==1:\n",
    "            #cv2.putText(img,\"hakim\",(x,y+h), font, 1,(255,0,0),2,cv2.LINE_AA)\n",
    "             cv2.putText(img, \"hakim\", (x,y+h), font, 1, (255,120,150),2, cv2.LINE_AA)\n",
    "       # elif id ==2:\n",
    "       #     cv2.putText(img,\"patp\",(x,y+h), font, 4,(255,0,0),2,cv2.LINE_AA)\n",
    "       # elif id ==3:\n",
    "       #     cv2.putText(img,\"naugthy_boy\",(x,y+h), font, 4,(255,0,0),2,cv2.LINE_AA)\n",
    "        else:\n",
    "            cv2.putText(img,\"unknown\",(x,y+h), cv2.FONT_HERSHEY_COMPLEX, 1,(255,0,0),2,cv2.LINE_AA)\n",
    "        pass\n",
    "    cv2.imshow(\"Faces\",img)\n",
    "    if(cv2.waitKey(1) == ord('q')):\n",
    "        break\n",
    "    pass\n",
    "cam.release()\n",
    "cv2.destroyAllWindows()"
   ]
  },
  {
   "cell_type": "code",
   "execution_count": 12,
   "metadata": {},
   "outputs": [],
   "source": [
    "while True:\n",
    "    ret,img = cam.read()\n",
    "    gray = cv2.cvtColor(img,cv2.COLOR_BGR2GRAY)\n",
    "    faces = faceDetect.detectMultiScale(gray, 1.3, 5);\n",
    "    for (x,y,w,h) in faces:\n",
    "        cv2.rectangle(img, (x,y), (x+w, y+h), (0,0,255), 2)\n",
    "        id, conf = rec.predict(gray[y:y+h, x:x+w])\n",
    "        if id==1:\n",
    "            #cv2.putText(img,\"hakim\",(x,y+h), font, 1,(255,0,0),2,cv2.LINE_AA)\n",
    "             cv2.putText(img, \"hakim\", (x,y+h), font, 1, (255,120,150),2, cv2.LINE_AA)\n",
    "       # elif id ==2:\n",
    "       #     cv2.putText(img,\"patp\",(x,y+h), font, 4,(255,0,0),2,cv2.LINE_AA)\n",
    "       # elif id ==3:\n",
    "       #     cv2.putText(img,\"naugthy_boy\",(x,y+h), font, 4,(255,0,0),2,cv2.LINE_AA)\n",
    "        else:\n",
    "            cv2.putText(img,\"unknown\",(x,y+h), cv2.FONT_HERSHEY_COMPLEX, 1,(255,0,0),2,cv2.LINE_AA)\n",
    "        pass\n",
    "    cv2.imshow(\"Faces\",img)\n",
    "    if(cv2.waitKey(1) == ord('q')):\n",
    "        break\n",
    "    pass\n",
    "cam.release()\n",
    "cv2.destroyAllWindows()\n",
    "\n",
    "from tkinter import *\n",
    "from tkinter import messagebox\n",
    "\n",
    "win = Tk()\n",
    "win.title(\"Login Screen\")\n",
    "win.geometry(\"400x150\")\n",
    "\n",
    "l1 = Label(win, text=\"Username\", font=(14))\n",
    "l2 = Label(win, text=\"Password\", font=(14))\n",
    "l1.grid(row=0, column=0, padx=5, pady=5)\n",
    "l2.grid(row=1, column=0, padx=5, pady=5)\n",
    "\n",
    "username = StringVar()\n",
    "password = StringVar()\n",
    "t1 = Entry(win, textvariable=username, font=(14))\n",
    "t2 = Entry(win, textvariable=password, font=(14), show='*')\n",
    "t1.grid(row=0, column=1)\n",
    "t2.grid(row=1, column=1)\n",
    "\n",
    "def login():\n",
    "    if username.get() == 'admin' and password.get() == '1234':\n",
    "        messagebox.showinfo(title='Login Status', message=\"You have logged in\")\n",
    "    else:\n",
    "        messagebox.showerror(title='Login Error', message=\"Username/Password is incorrect\")\n",
    "\n",
    "b1 = Button(win, command=login, text='Login', font=(14))\n",
    "\n",
    "def cancel():\n",
    "    status = messagebox.askyesno(title='Question', message='Do you want to close the window?')\n",
    "    if status == True:\n",
    "        win.destroy()\n",
    "    else:\n",
    "        messagebox.showwarning(title='Warning Message', message='Please Login Again!!!')\n",
    "b2 = Button(win, command=cancel, text='Cancel', font=(14))\n",
    "b1.grid(row=2, column=1, sticky=W)\n",
    "b2.grid(row=2, column=1, sticky=E)\n",
    "\n",
    "win.mainloop()"
   ]
  },
  {
   "cell_type": "code",
   "execution_count": null,
   "metadata": {},
   "outputs": [],
   "source": [
    "from tkinter import *\n",
    "from tkinter import messagebox\n",
    "\n",
    "win = Tk()\n",
    "win.title(\"Login Screen\")\n",
    "win.geometry(\"400x150\")\n",
    "\n",
    "l1 = Label(win, text=\"Username\", font=(14))\n",
    "l2 = Label(win, text=\"Password\", font=(14))\n",
    "l1.grid(row=0, column=0, padx=5, pady=5)\n",
    "l2.grid(row=1, column=0, padx=5, pady=5)\n",
    "\n",
    "username = StringVar()\n",
    "password = StringVar()\n",
    "t1 = Entry(win, textvariable=username, font=(14))\n",
    "t2 = Entry(win, textvariable=password, font=(14), show='*')\n",
    "t1.grid(row=0, column=1)\n",
    "t2.grid(row=1, column=1)\n",
    "\n",
    "def login():\n",
    "    if username.get() == 'admin' and password.get() == '1234':\n",
    "        messagebox.showinfo(title='Login Status', message=\"You have logged in\")\n",
    "    else:\n",
    "        messagebox.showerror(title='Login Error', message=\"Username/Password is incorrect\")\n",
    "\n",
    "b1 = Button(win, command=login, text='Login', font=(14))\n",
    "\n",
    "def cancel():\n",
    "    status = messagebox.askyesno(title='Question', message='Do you want to close the window?')\n",
    "    if status == True:\n",
    "        win.destroy()\n",
    "    else:\n",
    "        messagebox.showwarning(title='Warning Message', message='Please Login Again!!!')\n",
    "b2 = Button(win, command=cancel, text='Cancel', font=(14))\n",
    "b1.grid(row=2, column=1, sticky=W)\n",
    "b2.grid(row=2, column=1, sticky=E)\n",
    "\n",
    "win.mainloop()"
   ]
  },
  {
   "cell_type": "code",
   "execution_count": null,
   "metadata": {},
   "outputs": [],
   "source": []
  },
  {
   "cell_type": "code",
   "execution_count": null,
   "metadata": {},
   "outputs": [],
   "source": []
  },
  {
   "cell_type": "code",
   "execution_count": 5,
   "metadata": {},
   "outputs": [],
   "source": [
    "from tkinter import *\n",
    "from tkinter import messagebox\n",
    "\n",
    "win = Tk()\n",
    "win.title(\"Login Screen\")\n",
    "win.geometry(\"400x150\")\n",
    "\n",
    "l1 = Label(win, text=\"Username\", font=(14))\n",
    "l2 = Label(win, text=\"Password\", font=(14))\n",
    "l1.grid(row=0, column=0, padx=5, pady=5)\n",
    "l2.grid(row=1, column=0, padx=5, pady=5)\n",
    "\n",
    "username = StringVar()\n",
    "password = StringVar()\n",
    "t1 = Entry(win, textvariable=username, font=(14))\n",
    "t2 = Entry(win, textvariable=password, font=(14), show='*')\n",
    "t1.grid(row=0, column=1)\n",
    "t2.grid(row=1, column=1)\n",
    "\n",
    "def login():\n",
    "    if username.get() == 'admin' and password.get() == '1234':\n",
    "        messagebox.showinfo(title='Login Status', message=\"You have logged in\")\n",
    "    else:\n",
    "        messagebox.showerror(title='Login Error', message=\"Username/Password is incorrect\")\n",
    "\n",
    "b1 = Button(win, command=login, text='Login', font=(14))\n",
    "\n",
    "def cancel():\n",
    "    status = messagebox.askyesno(title='Question', message='Do you want to close the window?')\n",
    "    if status == True:\n",
    "        win.destroy()\n",
    "    else:\n",
    "        messagebox.showwarning(title='Warning Message', message='Please Login Again!!!')\n",
    "\n",
    "b2 = Button(win, command=cancel, text='Cancel', font=(14))\n",
    "b1.grid(row=2, column=1, sticky=W)\n",
    "b2.grid(row=2, column=1, sticky=E)\n",
    "\n",
    "win.mainloop()\n"
   ]
  },
  {
   "cell_type": "code",
   "execution_count": 3,
   "metadata": {},
   "outputs": [
    {
     "data": {
      "application/vnd.jupyter.widget-view+json": {
       "model_id": "0e2a893155614d88b5db42303e8d9835",
       "version_major": 2,
       "version_minor": 0
      },
      "text/plain": [
       "Password(placeholder='Enter password')"
      ]
     },
     "metadata": {},
     "output_type": "display_data"
    },
    {
     "data": {
      "application/vnd.jupyter.widget-view+json": {
       "model_id": "4ee70896038a45b6aa9bb8e947da94fb",
       "version_major": 2,
       "version_minor": 0
      },
      "text/plain": [
       "Button(description='Submit', style=ButtonStyle())"
      ]
     },
     "metadata": {},
     "output_type": "display_data"
    }
   ],
   "source": [
    "from ipywidgets import widgets\n",
    "from IPython.display import display\n",
    "from tkinter import *\n",
    "win= Tk()\n",
    "win.geometry(\"750x250\")\n",
    "password = widgets.Password(value='', placeholder='Enter password')\n",
    "display(password)\n",
    "\n",
    "def on_submit(b):\n",
    "    if password.value == 'password':\n",
    "        print('Access granted')\n",
    "    else:\n",
    "        print('Access denied')\n",
    "\n",
    "submit_button = widgets.Button(description='Submit')\n",
    "submit_button.on_click(on_submit)\n",
    "display(submit_button)\n",
    "win.mainloop()"
   ]
  },
  {
   "cell_type": "code",
   "execution_count": 9,
   "metadata": {},
   "outputs": [
    {
     "ename": "AttributeError",
     "evalue": "'cv2.face.LBPHFaceRecognizer' object has no attribute 'load'",
     "output_type": "error",
     "traceback": [
      "\u001b[1;31m---------------------------------------------------------------------------\u001b[0m",
      "\u001b[1;31mAttributeError\u001b[0m                            Traceback (most recent call last)",
      "Input \u001b[1;32mIn [9]\u001b[0m, in \u001b[0;36m<cell line: 7>\u001b[1;34m()\u001b[0m\n\u001b[0;32m      5\u001b[0m faceDetect\u001b[38;5;241m=\u001b[39mcv2\u001b[38;5;241m.\u001b[39mCascadeClassifier(\u001b[38;5;124m'\u001b[39m\u001b[38;5;124mhaarcascade_frontalface_default.xml\u001b[39m\u001b[38;5;124m'\u001b[39m)\n\u001b[0;32m      6\u001b[0m rec\u001b[38;5;241m=\u001b[39mcv2\u001b[38;5;241m.\u001b[39mface\u001b[38;5;241m.\u001b[39mLBPHFaceRecognizer_create()\n\u001b[1;32m----> 7\u001b[0m \u001b[43mrec\u001b[49m\u001b[38;5;241;43m.\u001b[39;49m\u001b[43mload\u001b[49m(\u001b[38;5;124m\"\u001b[39m\u001b[38;5;124mrecognizer/trainningData.yml\u001b[39m\u001b[38;5;124m\"\u001b[39m)\n\u001b[0;32m      8\u001b[0m font\u001b[38;5;241m=\u001b[39mcv2\u001b[38;5;241m.\u001b[39mFONT_HERSHEY_SIMPLEX\n\u001b[0;32m     10\u001b[0m cam\u001b[38;5;241m=\u001b[39mcv2\u001b[38;5;241m.\u001b[39mVideoCapture(\u001b[38;5;241m0\u001b[39m)\n",
      "\u001b[1;31mAttributeError\u001b[0m: 'cv2.face.LBPHFaceRecognizer' object has no attribute 'load'"
     ]
    }
   ],
   "source": [
    "import cv2\n",
    "from tkinter import *\n",
    "from tkinter import messagebox\n",
    "\n",
    "faceDetect=cv2.CascadeClassifier('haarcascade_frontalface_default.xml')\n",
    "rec=cv2.face.LBPHFaceRecognizer_create()\n",
    "rec.load(\"recognizer/trainningData.yml\")\n",
    "font=cv2.FONT_HERSHEY_SIMPLEX\n",
    "\n",
    "cam=cv2.VideoCapture(0)\n",
    "\n",
    "win = Tk()\n",
    "win.title(\"Login Screen\")\n",
    "win.geometry(\"400x150\")\n",
    "\n",
    "l1 = Label(win, text=\"Username\", font=(14))\n",
    "l2 = Label(win, text=\"Password\", font=(14))\n",
    "l1.grid(row=0, column=0, padx=5, pady=5)\n",
    "l2.grid(row=1, column=0, padx=5, pady=5)\n",
    "\n",
    "username = StringVar()\n",
    "password = StringVar()\n",
    "t1 = Entry(win, textvariable=username, font=(14))\n",
    "t2 = Entry(win, textvariable=password, font=(14), show='*')\n",
    "t1.grid(row=0, column=1)\n",
    "t2.grid(row=1, column=1)\n",
    "\n",
    "def login():\n",
    "    if username.get() == 'admin' and password.get() == '1234':\n",
    "        messagebox.showinfo(title='Login Status', message=\"You have logged in\")\n",
    "    else:\n",
    "        messagebox.showerror(title='Login Error', message=\"Username/Password is incorrect\")\n",
    "\n",
    "b1 = Button(win, command=login, text='Login', font=(14))\n",
    "\n",
    "def cancel():\n",
    "    status = messagebox.askyesno(title='Question', message='Do you want to close the window?')\n",
    "    if status == True:\n",
    "        win.destroy()\n",
    "    else:\n",
    "        messagebox.showwarning(title='Warning Message', message='Please Login Again!!!')\n",
    "b2 = Button(win, command=cancel, text='Cancel', font=(14))\n",
    "b1.grid(row=2, column=1, sticky=W)\n",
    "b2.grid(row=2, column=1, sticky=E)\n",
    "\n",
    "win.mainloop()\n",
    "\n",
    "while True:\n",
    "    ret,img = cam.read()\n",
    "    gray = cv2.cvtColor(img, cv2.COLOR_BGR2GRAY)\n",
    "    faces = faceDetect.detectMultiScale(gray, 1.3, 5)\n",
    "    for (x,y,w,h) in faces:\n",
    "        cv2.rectangle(img, (x,y), (x+w, y+h), (0,0,255), 2)\n",
    "    id, conf = rec.predict(gray[y:y+h, x:x+w])\n",
    "    if id == 1:\n",
    "            cv2.putText(img, \"hakim\", (x,y+h), font, 1, (255,120,150),2, cv2.LINE_AA)\n",
    "    else:\n",
    "            cv2.putText(img,\"unknown\",(x,y+h), cv2.FONT_HERSHEY_COMPLEX, 1,(255,0,0),2,cv2.LINE_AA)\n",
    "            cv2.imshow(\"Faces\",img)\n",
    "if(cv2.waitKey(1) == ord('q')):\n",
    "    break\n",
    "\n",
    "cam.release()\n",
    "cv2.destroyAllWindows()"
   ]
  },
  {
   "cell_type": "code",
   "execution_count": 8,
   "metadata": {},
   "outputs": [
    {
     "ename": "NameError",
     "evalue": "name 'y' is not defined",
     "output_type": "error",
     "traceback": [
      "\u001b[1;31m---------------------------------------------------------------------------\u001b[0m",
      "\u001b[1;31mNameError\u001b[0m                                 Traceback (most recent call last)",
      "Input \u001b[1;32mIn [8]\u001b[0m, in \u001b[0;36m<cell line: 5>\u001b[1;34m()\u001b[0m\n\u001b[0;32m      8\u001b[0m \u001b[38;5;28;01mfor\u001b[39;00m (x,y,w,h) \u001b[38;5;129;01min\u001b[39;00m faces:\n\u001b[0;32m      9\u001b[0m     cv2\u001b[38;5;241m.\u001b[39mrectangle(img, (x,y), (x\u001b[38;5;241m+\u001b[39mw, y\u001b[38;5;241m+\u001b[39mh), (\u001b[38;5;241m0\u001b[39m,\u001b[38;5;241m0\u001b[39m,\u001b[38;5;241m255\u001b[39m), \u001b[38;5;241m2\u001b[39m)\n\u001b[1;32m---> 10\u001b[0m \u001b[38;5;28mid\u001b[39m, conf \u001b[38;5;241m=\u001b[39m rec\u001b[38;5;241m.\u001b[39mpredict(gray[\u001b[43my\u001b[49m:y\u001b[38;5;241m+\u001b[39mh, x:x\u001b[38;5;241m+\u001b[39mw])\n\u001b[0;32m     11\u001b[0m \u001b[38;5;28;01mif\u001b[39;00m \u001b[38;5;28mid\u001b[39m \u001b[38;5;241m==\u001b[39m \u001b[38;5;241m1\u001b[39m:\n\u001b[0;32m     12\u001b[0m     cv2\u001b[38;5;241m.\u001b[39mputText(img, \u001b[38;5;124m\"\u001b[39m\u001b[38;5;124mhakim\u001b[39m\u001b[38;5;124m\"\u001b[39m, (x,y\u001b[38;5;241m+\u001b[39mh), font, \u001b[38;5;241m1\u001b[39m, (\u001b[38;5;241m255\u001b[39m,\u001b[38;5;241m120\u001b[39m,\u001b[38;5;241m150\u001b[39m),\u001b[38;5;241m2\u001b[39m, cv2\u001b[38;5;241m.\u001b[39mLINE_AA)\n",
      "\u001b[1;31mNameError\u001b[0m: name 'y' is not defined"
     ]
    }
   ],
   "source": [
    "# Cell 1: Tkinter login screen\n",
    "\n",
    "\n",
    "while True:\n",
    "    ret,img = cam.read()\n",
    "    gray = cv2.cvtColor(img, cv2.COLOR_BGR2GRAY)\n",
    "    faces = faceDetect.detectMultiScale(gray, 1.3, 5)\n",
    "    for (x,y,w,h) in faces:\n",
    "        cv2.rectangle(img, (x,y), (x+w, y+h), (0,0,255), 2)\n",
    "    id, conf = rec.predict(gray[y:y+h, x:x+w])\n",
    "    if id == 1:\n",
    "        cv2.putText(img, \"hakim\", (x,y+h), font, 1, (255,120,150),2, cv2.LINE_AA)\n",
    "    else:\n",
    "        cv2.putText(img,\"unknown\",(x,y+h), cv2.FONT_HERSHEY_COMPLEX, 1,(255,0,0),2,cv2.LINE_AA)\n",
    "        cv2.imshow(\"Faces\",img)\n",
    "    if(cv2.waitKey(1) == ord('q')):\n",
    "        break\n",
    "    if status == True:\n",
    "        cam.release()\n",
    "        cv2.destroyAllWindows()\n",
    "        break\n"
   ]
  },
  {
   "cell_type": "code",
   "execution_count": null,
   "metadata": {},
   "outputs": [],
   "source": []
  },
  {
   "cell_type": "code",
   "execution_count": null,
   "metadata": {},
   "outputs": [],
   "source": []
  }
 ],
 "metadata": {
  "kernelspec": {
   "display_name": "Python 3 (ipykernel)",
   "language": "python",
   "name": "python3"
  },
  "language_info": {
   "codemirror_mode": {
    "name": "ipython",
    "version": 3
   },
   "file_extension": ".py",
   "mimetype": "text/x-python",
   "name": "python",
   "nbconvert_exporter": "python",
   "pygments_lexer": "ipython3",
   "version": "3.9.12"
  }
 },
 "nbformat": 4,
 "nbformat_minor": 4
}

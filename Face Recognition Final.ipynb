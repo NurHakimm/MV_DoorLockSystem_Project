{
 "cells": [
  {
   "cell_type": "markdown",
   "metadata": {},
   "source": [
    "# Creating Dataset\n"
   ]
  },
  {
   "cell_type": "code",
   "execution_count": 4,
   "metadata": {},
   "outputs": [],
   "source": [
    "import cv2\n",
    "import numpy as numpy\n"
   ]
  },
  {
   "cell_type": "code",
   "execution_count": null,
   "metadata": {
    "scrolled": true
   },
   "outputs": [],
   "source": [
    "faceDetect = cv2.CascadeClassifier('haarcascade_frontalface_default.xml')\n",
    "cam = cv2.VideoCapture(0)\n",
    "\n",
    "id = input('Enter ID : ')\n",
    "sampleNum = 0\n",
    "\n",
    "while True:\n",
    "    ret,img = cam.read()\n",
    "    gray = cv2.cvtColor(img,cv2.COLOR_BGR2GRAY)\n",
    "    faces = faceDetect.detectMultiScale(gray, 1.3, 5);\n",
    "    for (x,y,w,h) in faces:\n",
    "        sampleNum = sampleNum + 1\n",
    "        cv2.imwrite(\"dataset.\" + str(id) + \".\" + str(sampleNum) + \".jpg\", gray[y:y+h,x:x+w])\n",
    "        cv2.rectangle(img, (x,y), (x+w, y+h), (0,0,255), 2)\n",
    "        cv2.waitKey(300)\n",
    "        pass\n",
    "    cv2.imshow(\"Faces\",img)\n",
    "    cv2.waitKey(1)\n",
    "    if sampleNum>300:\n",
    "        break\n",
    "    pass\n",
    "cam.release()\n",
    "cv2.destroyAllWindows()\n"
   ]
  },
  {
   "cell_type": "code",
   "execution_count": null,
   "metadata": {},
   "outputs": [],
   "source": []
  },
  {
   "cell_type": "markdown",
   "metadata": {},
   "source": [
    "# Training Dataset"
   ]
  },
  {
   "cell_type": "code",
   "execution_count": null,
   "metadata": {},
   "outputs": [],
   "source": [
    "recognizer = cv2.face.LBPHFaceRecognizer_create()\n",
    "path = 'C:/Users/Hakim/Downloads/FaceRe/faces/'\n",
    "\n",
    "def getImageWithID(path):\n",
    "    imagePaths = [os.path.join(path,f) for f in os.listdir(path)]\n",
    "    faces = []\n",
    "    IDs = []\n",
    "    for imagePath in imagePaths:\n",
    "        faceImg = Image.open(imagePath).convert('L')\n",
    "        faceNp= np.array(faceImg, 'uint8')\n",
    "        ID = int(os.path.split(imagePath)[-1].split('.')[1])\n",
    "        print(ID)\n",
    "        faces.append(faceNp)\n",
    "        IDs.append(ID)\n",
    "        cv2.imshow(\"training\", faceNp)\n",
    "        cv2.waitKey(10)\n",
    "    return IDs, faces\n",
    "\n",
    "Ids, faces = getImageWithID(path)\n",
    "recognizer.train(faces, np.array(Ids))\n",
    "print(faces)\n",
    "print(recognizer.write('trainingData.yml'))\n",
    "cv2.destroyAllWindows()\n"
   ]
  },
  {
   "cell_type": "markdown",
   "metadata": {},
   "source": [
    "# Detection"
   ]
  },
  {
   "cell_type": "code",
   "execution_count": 5,
   "metadata": {},
   "outputs": [
    {
     "name": "stdout",
     "output_type": "stream",
     "text": [
      "None\n"
     ]
    }
   ],
   "source": [
    "faceDetect = cv2.CascadeClassifier('haarcascade_frontalface_default.xml')\n",
    "cam = cv2.VideoCapture(0)\n",
    "rec = cv2.face.LBPHFaceRecognizer_create()\n",
    "print(rec.read('trainingData.yml'))\n",
    "id = 0\n",
    "font = cv2.FONT_HERSHEY_SIMPLEX"
   ]
  },
  {
   "cell_type": "code",
   "execution_count": 6,
   "metadata": {},
   "outputs": [],
   "source": [
    "while True:\n",
    "    ret,img = cam.read()\n",
    "    gray = cv2.cvtColor(img,cv2.COLOR_BGR2GRAY)\n",
    "    faces = faceDetect.detectMultiScale(gray, 1.3, 5);\n",
    "    for (x,y,w,h) in faces:\n",
    "        cv2.rectangle(img, (x,y), (x+w, y+h), (0,0,255), 2)\n",
    "        id, conf = rec.predict(gray[y:y+h, x:x+w])\n",
    "        if id==1:\n",
    "            #cv2.putText(img,\"hakim\",(x,y+h), font, 1,(255,0,0),2,cv2.LINE_AA)\n",
    "             cv2.putText(img, \"hakim\", (x,y+h), font, 1, (255,120,150),2, cv2.LINE_AA)\n",
    "       # elif id ==2:\n",
    "       #     cv2.putText(img,\"patp\",(x,y+h), font, 4,(255,0,0),2,cv2.LINE_AA)\n",
    "       # elif id ==3:\n",
    "       #     cv2.putText(img,\"naugthy_boy\",(x,y+h), font, 4,(255,0,0),2,cv2.LINE_AA)\n",
    "        else:\n",
    "            cv2.putText(img,\"unknown\",(x,y+h), cv2.FONT_HERSHEY_COMPLEX, 1,(255,0,0),2,cv2.LINE_AA)\n",
    "        pass\n",
    "    cv2.imshow(\"Faces\",img)\n",
    "    if(cv2.waitKey(1) == ord('q')):\n",
    "        break\n",
    "    pass\n",
    "cam.release()\n",
    "cv2.destroyAllWindows()\n",
    "\n",
    "from tkinter import *\n",
    "from tkinter import messagebox\n",
    "\n",
    "win = Tk()\n",
    "win.title(\"Login Screen\")\n",
    "win.geometry(\"400x150\")\n",
    "\n",
    "l1 = Label(win, text=\"Username\", font=(14))\n",
    "l2 = Label(win, text=\"Password\", font=(14))\n",
    "l1.grid(row=0, column=0, padx=5, pady=5)\n",
    "l2.grid(row=1, column=0, padx=5, pady=5)\n",
    "\n",
    "username = StringVar()\n",
    "password = StringVar()\n",
    "t1 = Entry(win, textvariable=username, font=(14))\n",
    "t2 = Entry(win, textvariable=password, font=(14), show='*')\n",
    "t1.grid(row=0, column=1)\n",
    "t2.grid(row=1, column=1)\n",
    "\n",
    "def login():\n",
    "    if username.get() == 'admin' and password.get() == '1234':\n",
    "        messagebox.showinfo(title='Login Status', message=\"You have logged in\")\n",
    "    else:\n",
    "        messagebox.showerror(title='Login Error', message=\"Username/Password is incorrect\")\n",
    "\n",
    "b1 = Button(win, command=login, text='Login', font=(14))\n",
    "\n",
    "def cancel():\n",
    "    status = messagebox.askyesno(title='Question', message='Do you want to close the window?')\n",
    "    if status == True:\n",
    "        win.destroy()\n",
    "    else:\n",
    "        messagebox.showwarning(title='Warning Message', message='Please Login Again!!!')\n",
    "b2 = Button(win, command=cancel, text='Cancel', font=(14))\n",
    "b1.grid(row=2, column=1, sticky=W)\n",
    "b2.grid(row=2, column=1, sticky=E)\n",
    "\n",
    "win.mainloop()"
   ]
  },
  {
   "cell_type": "code",
   "execution_count": 3,
   "metadata": {},
   "outputs": [],
   "source": [
    "while True:\n",
    "    ret,img = cam.read()\n",
    "    gray = cv2.cvtColor(img,cv2.COLOR_BGR2GRAY)\n",
    "    faces = faceDetect.detectMultiScale(gray, 1.3, 5);\n",
    "    for (x,y,w,h) in faces:\n",
    "        cv2.rectangle(img, (x,y), (x+w, y+h), (0,0,255), 2)\n",
    "        id, conf = rec.predict(gray[y:y+h, x:x+w])\n",
    "        if id==1:\n",
    "            \n",
    "             cv2.putText(img, \" HAKIM \", (x,y+h), font, 1, (255,120,150),2, cv2.LINE_AA)\n",
    "       # cv2.putText(img,\"hakim\",(x,y+h), font, 1,(255,0,0),2,cv2.LINE_AA)\n",
    "       # elif id ==2:\n",
    "       #     cv2.putText(img,\"patp\",(x,y+h), font, 4,(255,0,0),2,cv2.LINE_AA)\n",
    "       # elif id ==3:\n",
    "       #     cv2.putText(img,\"naugthy_boy\",(x,y+h), font, 4,(255,0,0),2,cv2.LINE_AA)\n",
    "        else:\n",
    "            cv2.putText(img,\" UNKNOWN \",(x,y+h), cv2.FONT_HERSHEY_COMPLEX, 1,(255,0,0),2,cv2.LINE_AA)\n",
    "        pass\n",
    "    cv2.imshow(\"Faces\",img)\n",
    "    if(cv2.waitKey(1) == ord('q')):\n",
    "        break\n",
    "    pass\n",
    "cam.release()\n",
    "cv2.destroyAllWindows()\n",
    "\n",
    "from tkinter import *\n",
    "from tkinter import messagebox\n",
    "\n",
    "win = Tk()\n",
    "win.title(\"Door Login Screen\")\n",
    "win.geometry(\"400x150\")\n",
    "\n",
    "\n",
    "l1 = Label(win, text=\"Password\", font=(14))\n",
    "l1.grid(row=0, column=0, padx=5, pady=5)\n",
    "\n",
    "\n",
    "password = StringVar()\n",
    "t1 = Entry(win, textvariable=password, font=(14), show='*')\n",
    "t1.grid(row=0, column=1)\n",
    "\n",
    "def login():\n",
    "    if password.get() == '1234':\n",
    "        messagebox.showinfo(title=' Door Access Status ', message=\" ACCESS GRANTED \")\n",
    "    else:\n",
    "        messagebox.showerror(title=' Door Access Status ', message=\" ACCESS DENIED Password is incorrect\")\n",
    "\n",
    "b1 = Button(win, command=login, text='Login', font=(14))\n",
    "\n",
    "def cancel():\n",
    "    status = messagebox.askyesno(title='Question', message='Do you want to close the window?')\n",
    "    if status == True:\n",
    "        win.destroy()\n",
    "    else:\n",
    "        messagebox.showwarning(title='Warning Message', message='Please Login Again!!!')\n",
    "b2 = Button(win, command=cancel, text='Cancel', font=(14))\n",
    "b1.grid(row=2, column=1, sticky=W)\n",
    "b2.grid(row=2, column=1, sticky=E)\n",
    "\n",
    "win.mainloop()"
   ]
  },
  {
   "cell_type": "code",
   "execution_count": null,
   "metadata": {},
   "outputs": [],
   "source": []
  }
 ],
 "metadata": {
  "kernelspec": {
   "display_name": "Python 3 (ipykernel)",
   "language": "python",
   "name": "python3"
  },
  "language_info": {
   "codemirror_mode": {
    "name": "ipython",
    "version": 3
   },
   "file_extension": ".py",
   "mimetype": "text/x-python",
   "name": "python",
   "nbconvert_exporter": "python",
   "pygments_lexer": "ipython3",
   "version": "3.9.12"
  }
 },
 "nbformat": 4,
 "nbformat_minor": 4
}
